{
 "cells": [
  {
   "cell_type": "code",
   "execution_count": 1,
   "metadata": {},
   "outputs": [
    {
     "name": "stdout",
     "output_type": "stream",
     "text": [
      "Analysis Results:\n",
      "POSIX Score: 1.20 ± 0.41\n",
      "Valid Entries: 400 out of 400\n",
      "Score Range: [0.00, 3.28]\n"
     ]
    }
   ],
   "source": [
    "import pandas as pd\n",
    "import numpy as np\n",
    "\n",
    "def calculate_average_posix_score(file_path):\n",
    "    \"\"\"\n",
    "    Read CSV file and calculate average POSIX score, standard deviation, and other statistics,\n",
    "    excluding any invalid entries.\n",
    "    \n",
    "    Parameters:\n",
    "    file_path (str): Path to the CSV file\n",
    "    \n",
    "    Returns:\n",
    "    dict: Dictionary containing various statistical measures\n",
    "    \"\"\"\n",
    "    # Read the CSV file\n",
    "    df = pd.read_csv(file_path)\n",
    "    \n",
    "    # Convert posix_score to numeric, invalid values will become NaN\n",
    "    df['posix_score'] = pd.to_numeric(df['posix_score'], errors='coerce')\n",
    "    \n",
    "    # Calculate statistics\n",
    "    total_entries = len(df)\n",
    "    valid_entries = df['posix_score'].count()\n",
    "    average_score = df['posix_score'].mean()\n",
    "    std_dev = df['posix_score'].std()\n",
    "    \n",
    "    # Calculate additional statistics\n",
    "    min_score = df['posix_score'].min()\n",
    "    max_score = df['posix_score'].max()\n",
    "    \n",
    "    return {\n",
    "        'average_score': average_score,\n",
    "        'standard_deviation': std_dev,\n",
    "        'total_valid_entries': valid_entries,\n",
    "        'total_entries': total_entries,\n",
    "        'min_score': min_score,\n",
    "        'max_score': max_score\n",
    "    }\n",
    "\n",
    "# Usage example\n",
    "if __name__ == \"__main__\":\n",
    "    file_path = \"/ephemeral/shashmi/posix_new_improved/Thesis/template_variation_results_qwenvl/all_results_summary.csv\"  # Replace with your actual file path\n",
    "    results = calculate_average_posix_score(file_path)\n",
    "    \n",
    "    print(\"Analysis Results:\")\n",
    "    print(f\"POSIX Score: {results['average_score']:.2f} ± {results['standard_deviation']:.2f}\")\n",
    "    print(f\"Valid Entries: {results['total_valid_entries']} out of {results['total_entries']}\")\n",
    "    print(f\"Score Range: [{results['min_score']:.2f}, {results['max_score']:.2f}]\")"
   ]
  },
  {
   "cell_type": "markdown",
   "metadata": {},
   "source": []
  },
  {
   "cell_type": "code",
   "execution_count": null,
   "metadata": {},
   "outputs": [],
   "source": []
  }
 ],
 "metadata": {
  "kernelspec": {
   "display_name": "llava",
   "language": "python",
   "name": "python3"
  },
  "language_info": {
   "codemirror_mode": {
    "name": "ipython",
    "version": 3
   },
   "file_extension": ".py",
   "mimetype": "text/x-python",
   "name": "python",
   "nbconvert_exporter": "python",
   "pygments_lexer": "ipython3",
   "version": "3.10.15"
  }
 },
 "nbformat": 4,
 "nbformat_minor": 2
}
