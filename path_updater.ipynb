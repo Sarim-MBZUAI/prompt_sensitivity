{
 "cells": [
  {
   "cell_type": "code",
   "execution_count": 1,
   "metadata": {},
   "outputs": [
    {
     "name": "stdout",
     "output_type": "stream",
     "text": [
      "Processing /ephemeral/shashmi/posix_new_improved/Thesis/unnecessary_stuff_processed_data.jsonl...\n",
      "Successfully updated 400 entries\n",
      "Updated JSON saved to vanillah_iuxray_json.json\n"
     ]
    }
   ],
   "source": [
    "import json\n",
    "import os\n",
    "\n",
    "def update_image_paths(input_file, output_file, new_base_path):\n",
    "    \"\"\"\n",
    "    Read a JSON file with multiple entries and update all image paths.\n",
    "    \n",
    "    Args:\n",
    "        input_file (str): Path to input JSON file\n",
    "        output_file (str): Path to output JSON file\n",
    "        new_base_path (str): New base path for images\n",
    "    \"\"\"\n",
    "    # Read the input file\n",
    "    with open(input_file, 'r') as f:\n",
    "        content = f.read()\n",
    "    \n",
    "    updated_lines = []\n",
    "    \n",
    "    # Process each line\n",
    "    for line in content.split('\\n'):\n",
    "        if line.strip():  # Skip empty lines\n",
    "            try:\n",
    "                # Parse the JSON object\n",
    "                entry = json.loads(line)\n",
    "                \n",
    "                # Update the image path if it exists\n",
    "                if 'image' in entry:\n",
    "                    old_path = entry['image']\n",
    "                    filename = old_path.split('/')[-1]\n",
    "                    # Create new path by combining new base path with filename\n",
    "                    new_path = os.path.join(new_base_path, filename).replace('\\\\', '/')\n",
    "                    entry['image'] = new_path\n",
    "                \n",
    "                # Add the updated entry to our list\n",
    "                updated_lines.append(json.dumps(entry))\n",
    "            except json.JSONDecodeError as e:\n",
    "                print(f\"Warning: Skipping malformed JSON line: {line[:100]}...\")\n",
    "                continue\n",
    "    \n",
    "    # Write all updated entries to the output file\n",
    "    with open(output_file, 'w') as f:\n",
    "        f.write('\\n'.join(updated_lines))\n",
    "    \n",
    "    print(f\"Successfully updated {len(updated_lines)} entries\")\n",
    "\n",
    "def main():\n",
    "    # Define paths\n",
    "    input_file = '/ephemeral/shashmi/posix_new_improved/Thesis/unnecessary_stuff_processed_data.jsonl'  # Your input file\n",
    "    output_file = 'vanillah_iuxray_json.json'\n",
    "    new_base_path = \"/ephemeral/shashmi/posix_new_improved/matching_subset_images\"\n",
    "    \n",
    "    # Verify input file exists\n",
    "    if not os.path.exists(input_file):\n",
    "        print(f\"Error: Input file '{input_file}' not found!\")\n",
    "        return\n",
    "    \n",
    "    # Process the file\n",
    "    print(f\"Processing {input_file}...\")\n",
    "    update_image_paths(input_file, output_file, new_base_path)\n",
    "    print(f\"Updated JSON saved to {output_file}\")\n",
    "\n",
    "if __name__ == \"__main__\":\n",
    "    main()"
   ]
  },
  {
   "cell_type": "code",
   "execution_count": null,
   "metadata": {},
   "outputs": [],
   "source": []
  }
 ],
 "metadata": {
  "kernelspec": {
   "display_name": "fakeit",
   "language": "python",
   "name": "python3"
  },
  "language_info": {
   "codemirror_mode": {
    "name": "ipython",
    "version": 3
   },
   "file_extension": ".py",
   "mimetype": "text/x-python",
   "name": "python",
   "nbconvert_exporter": "python",
   "pygments_lexer": "ipython3",
   "version": "3.10.15"
  }
 },
 "nbformat": 4,
 "nbformat_minor": 2
}
